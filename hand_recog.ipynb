{
 "cells": [
  {
   "cell_type": "markdown",
   "metadata": {},
   "source": [
    "# KNN,Perceptron,SVM  For Multi-class and Two-class Recognition"
   ]
  },
  {
   "cell_type": "code",
   "execution_count": 284,
   "metadata": {},
   "outputs": [],
   "source": [
    "import matplotlib.pyplot as plt\n",
    "from sklearn.model_selection import GridSearchCV\n",
    "from sklearn.model_selection import train_test_split\n",
    "from sklearn.neighbors import KNeighborsClassifier\n",
    "from sklearn.metrics import accuracy_score,confusion_matrix,classification_report\n",
    "import numpy as np\n",
    "from sklearn import datasets\n",
    "\n",
    "# The digits dataset\n",
    "digits = datasets.load_digits()"
   ]
  },
  {
   "cell_type": "code",
   "execution_count": 285,
   "metadata": {},
   "outputs": [
    {
     "name": "stdout",
     "output_type": "stream",
     "text": [
      "data (1797, 64)\n",
      "target (1797,)\n",
      "frame\n",
      "feature_names\n",
      "target_names (10,)\n",
      "images (1797, 8, 8)\n",
      "DESCR\n"
     ]
    }
   ],
   "source": [
    "for key,value in digits.items() :\n",
    "    try:\n",
    "        print (key,value.shape)\n",
    "    except:\n",
    "        print (key)"
   ]
  },
  {
   "cell_type": "code",
   "execution_count": 286,
   "metadata": {},
   "outputs": [
    {
     "data": {
      "image/png": "[encoded data removed]",
      "text/plain": [
       "<Figure size 432x288 with 10 Axes>"
      ]
     },
     "metadata": {
      "needs_background": "light"
     },
     "output_type": "display_data"
    }
   ],
   "source": [
    "images_and_labels = list(zip(digits.images, digits.target))\n",
    "for index, (image, label) in enumerate(images_and_labels[:10]):\n",
    "    plt.subplot(2, 5, index + 1)\n",
    "    plt.axis('off')\n",
    "    plt.imshow(image, cmap=plt.cm.gray_r, interpolation='nearest')\n",
    "    plt.title('Training: %i' % label)"
   ]
  },
  {
   "cell_type": "code",
   "execution_count": 287,
   "metadata": {},
   "outputs": [
    {
     "name": "stdout",
     "output_type": "stream",
     "text": [
      "(1797, 64)\n",
      "[[ 0.  0.  5. 13.  9.  1.  0.  0.]\n",
      " [ 0.  0. 13. 15. 10. 15.  5.  0.]\n",
      " [ 0.  3. 15.  2.  0. 11.  8.  0.]\n",
      " [ 0.  4. 12.  0.  0.  8.  8.  0.]\n",
      " [ 0.  5.  8.  0.  0.  9.  8.  0.]\n",
      " [ 0.  4. 11.  0.  1. 12.  7.  0.]\n",
      " [ 0.  2. 14.  5. 10. 12.  0.  0.]\n",
      " [ 0.  0.  6. 13. 10.  0.  0.  0.]]\n",
      "0\n"
     ]
    },
    {
     "data": {
      "image/png": "[encoded data removed]",
      "text/plain": [
       "<Figure size 432x288 with 1 Axes>"
      ]
     },
     "metadata": {
      "needs_background": "light"
     },
     "output_type": "display_data"
    }
   ],
   "source": [
    "# 加载数据\n",
    "data = digits.data\n",
    "# 数据探索\n",
    "print(data.shape)\n",
    "# 查看第一幅图像\n",
    "print(digits.images[0])\n",
    "# 第一幅图像代表的数字含义\n",
    "print(digits.target[0])\n",
    "# 将第一幅图像显示出来\n",
    "plt.gray()\n",
    "plt.imshow(digits.images[0])\n",
    "plt.show()"
   ]
  },
  {
   "cell_type": "markdown",
   "metadata": {},
   "source": [
    "# Multi-class"
   ]
  },
  {
   "cell_type": "code",
   "execution_count": 288,
   "metadata": {},
   "outputs": [],
   "source": [
    "from sklearn import preprocessing\n",
    "# 分割数据，将 25% 的数据作为测试集，其余作为训练集（你也可以指定其他比例的数据作为训练集）\n",
    "\n",
    "train_x, test_x, train_y, test_y = train_test_split(data, digits.target, test_size=0.25, random_state=33)\n",
    "\n",
    "# 采用 Z-Score 规范化\n",
    "ss = preprocessing.StandardScaler()\n",
    "train_ss_x = ss.fit_transform(train_x)\n",
    "test_ss_x = ss.transform(test_x)"
   ]
  },
  {
   "cell_type": "markdown",
   "metadata": {},
   "source": [
    "## KNN multi-categories"
   ]
  },
  {
   "cell_type": "code",
   "execution_count": 289,
   "metadata": {},
   "outputs": [
    {
     "name": "stdout",
     "output_type": "stream",
     "text": [
      "KNN with 1 neighbors accuracy: 0.9800\n",
      "KNN with 2 neighbors accuracy: 0.9800\n",
      "KNN with 3 neighbors accuracy: 0.9756\n",
      "KNN with 4 neighbors accuracy: 0.9778\n",
      "KNN with 5 neighbors accuracy: 0.9733\n",
      "KNN with 6 neighbors accuracy: 0.9778\n",
      "KNN with 7 neighbors accuracy: 0.9756\n",
      "KNN with 8 neighbors accuracy: 0.9733\n",
      "KNN with 9 neighbors accuracy: 0.9711\n"
     ]
    }
   ],
   "source": [
    "# 创建 KNN 分类器\n",
    "for i in range(1,10):\n",
    "    knn =  KNeighborsClassifier(n_neighbors=i,algorithm='auto',weights='distance')\n",
    "    knn.fit(train_ss_x, train_y) \n",
    "    predict_y = knn.predict(test_ss_x) \n",
    "    print(\"KNN with %s neighbors accuracy: %.4lf\" % (i,accuracy_score(predict_y, test_y)))"
   ]
  },
  {
   "cell_type": "code",
   "execution_count": null,
   "metadata": {},
   "outputs": [],
   "source": []
  },
  {
   "cell_type": "markdown",
   "metadata": {},
   "source": [
    "## SVM multi-categories"
   ]
  },
  {
   "cell_type": "code",
   "execution_count": 290,
   "metadata": {},
   "outputs": [
    {
     "data": {
      "text/plain": [
       "0.9866666666666667"
      ]
     },
     "execution_count": 290,
     "metadata": {},
     "output_type": "execute_result"
    }
   ],
   "source": [
    "from sklearn import svm\n",
    "clf = svm.SVC(gamma='auto')\n",
    "clf.fit(train_ss_x,train_y)\n",
    "\n",
    "#评估模型的准确度\n",
    "from sklearn.metrics import accuracy_score\n",
    "Ypred = clf.predict(test_ss_x)\n",
    "accuracy_score(test_y, Ypred)\n",
    "clf.score(test_ss_x, test_y)\n"
   ]
  },
  {
   "cell_type": "markdown",
   "metadata": {},
   "source": [
    "#  Two-class"
   ]
  },
  {
   "cell_type": "code",
   "execution_count": 291,
   "metadata": {},
   "outputs": [
    {
     "name": "stdout",
     "output_type": "stream",
     "text": [
      "(359, 65)\n",
      "(359, 64)\n",
      "(359,)\n"
     ]
    }
   ],
   "source": [
    "'''抽取二分类'''\n",
    "import random\n",
    "X_train=data\n",
    "Y_train=digits.target\n",
    "\n",
    "X_train=np.concatenate((X_train[Y_train==7],X_train[Y_train==9]),axis=0)\n",
    "Y_train=np.concatenate((Y_train[Y_train==7],Y_train[Y_train==9]),axis=0)\n",
    "train=np.concatenate((X_train,Y_train.reshape(-1,1)),axis=1)\n",
    "random.shuffle(train)\n",
    "train = np.array(train);\n",
    "print(train.shape)\n",
    "X_train = train[:,0:64]\n",
    "Y_train = train[:,64]\n",
    "print(X_train.shape)\n",
    "print(Y_train.shape)\n"
   ]
  },
  {
   "cell_type": "code",
   "execution_count": 292,
   "metadata": {},
   "outputs": [
    {
     "name": "stdout",
     "output_type": "stream",
     "text": [
      "(269, 64)\n",
      "(90, 64)\n"
     ]
    }
   ],
   "source": [
    "#划分训练和测试集\n",
    "train_x, test_x, train_y, test_y = train_test_split(X_train, Y_train, test_size=0.25, random_state=33)\n",
    "# 采用 Z-Score 规范化\n",
    "ss = preprocessing.StandardScaler()\n",
    "train_x = ss.fit_transform(train_x)\n",
    "test_x = ss.transform(test_x)\n",
    "print(train_x.shape)\n",
    "print(test_x.shape)\n"
   ]
  },
  {
   "cell_type": "markdown",
   "metadata": {},
   "source": [
    "## SVM for Two categories"
   ]
  },
  {
   "cell_type": "code",
   "execution_count": 297,
   "metadata": {},
   "outputs": [
    {
     "name": "stdout",
     "output_type": "stream",
     "text": [
      "Score:  0.9888888888888889\n"
     ]
    }
   ],
   "source": [
    "# 使用支持向量机来训练模型\n",
    "from sklearn import svm\n",
    "\n",
    "clf = svm.SVC()\n",
    "clf.fit(train_x, train_y)\n",
    "\n",
    "#评估模型的准确度\n",
    "from sklearn.metrics import accuracy_score\n",
    "Ypred = clf.predict(test_x);\n",
    "print('Score: ',accuracy_score(test_y, Ypred));\n"
   ]
  },
  {
   "cell_type": "markdown",
   "metadata": {},
   "source": [
    "## Perceptron for Two categories"
   ]
  },
  {
   "cell_type": "code",
   "execution_count": 294,
   "metadata": {},
   "outputs": [
    {
     "name": "stdout",
     "output_type": "stream",
     "text": [
      "[-26.           0.          -7.14608185  -2.69481486  -3.27811931\n",
      "  -4.25044271  -0.8369213   -4.45586684   0.78001366   0.\n",
      "   0.07454335   3.52483019  -1.24567552  -5.32767665   2.00074453\n",
      "  -4.12080498  -1.85527716   0.           8.12536537   0.31111909\n",
      "  -5.62976762   0.61460893   2.68509373  -7.41136881   4.68815275\n",
      "   0.          -7.10334146   0.0942132    1.22930652   6.07875575\n",
      "   5.30565785  -1.77691399   0.           0.          -5.05667294\n",
      "  -6.95762969  -8.44214705 -11.48288864   3.57896811  -3.15173893\n",
      "   0.           0.           0.10438953  -3.66071564  -8.59674916\n",
      "  -5.91636596   6.60184815   8.93433056   0.           0.\n",
      "   5.91913096  -1.15236777  -3.6077676   -4.49850865  13.20155083\n",
      "   7.81923465   0.           0.          -1.80830402  -2.88461966\n",
      "   3.89121426   5.11852817  15.19495854   5.85024551   0.        ]\n",
      "Accuracy in T1:  0.9777777778\n"
     ]
    },
    {
     "data": {
      "image/png": "[encoded data removed]",
      "text/plain": [
       "<Figure size 432x288 with 1 Axes>"
      ]
     },
     "metadata": {
      "needs_background": "light"
     },
     "output_type": "display_data"
    }
   ],
   "source": [
    "#Perceptron training\n",
    "\n",
    "class Perception(object):\n",
    "    \"\"\"\n",
    "    eta:学习率\n",
    "    n_iter:权重向量的训练次数\n",
    "    w_:神经分叉权重向量\n",
    "    error_:用于记录神经元判断出错次数\n",
    "    \"\"\"\n",
    "    def __init__(self, eta = 0.1, n_iter = 10):\n",
    "        self.eta = eta\n",
    "        self.n_iter = n_iter\n",
    "    def fit(self, x, y):\n",
    "        \"\"\"\n",
    "        输入训练数据，培训神经元，x输入样本向量，y对应样本分类\n",
    "        x:shape[n_samples, n_features]\n",
    "        x:[[1, 2, 3], [4, 5, 6]]\n",
    "        n_samples:2\n",
    "        n_features:3\n",
    "        y:[1, -1]\n",
    "        初始化权重向量为0\n",
    "        加一是因为前面算法提到的w0，也就是步调函数的阈值\n",
    "        \"\"\"\n",
    "        self.w_ = np.zeros(1 + x.shape[1])\n",
    "        self.errors_ = []\n",
    "\n",
    "        for _ in range(self.n_iter):\n",
    "            errors = 0\n",
    "            \"\"\"\n",
    "            x:[[1, 2, 3], [4, 5, 6]]\n",
    "            y:[1, -1]\n",
    "            zip(x,y) = [[1, 2, 3, 1], [4, 5, 6, -1]]\n",
    "            \"\"\"\n",
    "            for xi, target in zip(x, y):    #BGD\n",
    "                \"\"\"\n",
    "                update = η * (y - y')\n",
    "                \"\"\"\n",
    "                update = self.eta * (target - self.predict(xi))\n",
    "                \"\"\"\n",
    "                xi是一个向量\n",
    "                update * xi 等价：\n",
    "                [▽w[1]=x[1]*update,▽w[2]=x[2]*update,▽w[3]=x[3]*update]\n",
    "                \"\"\"\n",
    "                self.w_[1:] += update * xi\n",
    "                self.w_[0] += update\n",
    "                errors += int(update != 0.0)\n",
    "            self.errors_.append(errors)\n",
    "                \n",
    "    def net_input(self, x):\n",
    "        return np.dot(x, self.w_[1:]) + self.w_[0]\n",
    "    def predict(self, x):\n",
    "        return np.where(self.net_input(x) >= 0.0, 1, -1)\n",
    "\n",
    "\n",
    "\n",
    "\n",
    "\n",
    "ppn = Perception(eta=1, n_iter=30);\n",
    "ppn.fit(train_x, train_y-8);\n",
    "print(ppn.w_)\n",
    "plt.figure();\n",
    "\n",
    "plt.xlabel('Iteration number')\n",
    "plt.ylabel('Error rates')\n",
    "plt.title('iteration error')\n",
    "error = [x/len(train_y) for x in ppn.errors_]\n",
    "plt.plot(range(1, ppn.n_iter+1), error,'bo-');\n",
    "\n",
    "\n",
    "# print(\"The error in train data: \" ,(ppn.errors_))\n",
    "\n",
    "Y_pre = ppn.predict(test_x);\n",
    "print('Accuracy in T1: % .10f' % accuracy_score(Y_pre, test_y-8));\n"
   ]
  },
  {
   "cell_type": "code",
   "execution_count": null,
   "metadata": {},
   "outputs": [],
   "source": []
  },
  {
   "cell_type": "code",
   "execution_count": null,
   "metadata": {},
   "outputs": [],
   "source": []
  },
  {
   "cell_type": "code",
   "execution_count": null,
   "metadata": {},
   "outputs": [],
   "source": []
  },
  {
   "cell_type": "code",
   "execution_count": null,
   "metadata": {},
   "outputs": [],
   "source": []
  },
  {
   "cell_type": "code",
   "execution_count": null,
   "metadata": {},
   "outputs": [],
   "source": []
  },
  {
   "cell_type": "code",
   "execution_count": null,
   "metadata": {},
   "outputs": [],
   "source": []
  },
  {
   "cell_type": "code",
   "execution_count": null,
   "metadata": {},
   "outputs": [],
   "source": []
  }
 ],
 "metadata": {
  "kernelspec": {
   "display_name": "Python 3",
   "language": "python",
   "name": "python3"
  },
  "language_info": {
   "codemirror_mode": {
    "name": "ipython",
    "version": 3
   },
   "file_extension": ".py",
   "mimetype": "text/x-python",
   "name": "python",
   "nbconvert_exporter": "python",
   "pygments_lexer": "ipython3",
   "version": "3.8.3"
  }
 },
 "nbformat": 4,
 "nbformat_minor": 4
}
